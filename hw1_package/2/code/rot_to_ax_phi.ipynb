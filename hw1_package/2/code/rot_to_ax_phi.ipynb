{
 "cells": [
  {
   "cell_type": "code",
   "execution_count": 154,
   "metadata": {
    "collapsed": false
   },
   "outputs": [
    {
     "name": "stdout",
     "output_type": "stream",
     "text": [
      "[ 0.16573982 -0.58044732  0.79725229]\n",
      "1.0471975511965976\n"
     ]
    },
    {
     "data": {
      "text/plain": [
       "([0.16573981989433331, -0.5804473225914154, 0.79725229243812856],\n",
       " 1.0471975511965974)"
      ]
     },
     "execution_count": 154,
     "metadata": {},
     "output_type": "execute_result"
    }
   ],
   "source": [
    "from numpy.linalg import eig\n",
    "from random import random\n",
    "import numpy as np\n",
    "from math import acos, pi, sin, cos\n",
    "\n",
    "def get_unit_vector():\n",
    "    s = np.array([2*random()-1, 2*random()-1, 2*random()-1])\n",
    "    s = s/np.linalg.norm(s)\n",
    "    return s\n",
    "\n",
    "def get_s_matrix(s):\n",
    "    return np.array([[0, -s[2], s[1]], [s[2], 0, -s[0]], [-s[1], s[0], 0]])\n",
    "\n",
    "def get_rotation_matrix(s, phi):\n",
    "    S = get_s_matrix(s)\n",
    "    R = np.eye(3) + sin(phi) * S + (1-cos(phi)) * S @ S\n",
    "    return R\n",
    "\n",
    "def rot_to_ax_phi(R):\n",
    "    if abs(np.trace(R)-3) < 1e-10:\n",
    "        return np.array([0, 0, 0]), 2*pi\n",
    "    \n",
    "    if abs(np.trace(R)+1) < 1e-10:\n",
    "        phi = pi\n",
    "    else:\n",
    "        phi = acos((np.trace(R)-1)/2)\n",
    "        \n",
    "    eigv, v = eig(R)   \n",
    "    for i in range(3):\n",
    "        if is_one(eigv[i]):\n",
    "            index0 = i\n",
    "    index1 = (i+1)%3\n",
    "    index2 = (i+2)%3\n",
    "    s = [v[0, index0].real, v[1, index0].real, v[2, index0].real]\n",
    "    return s, phi\n",
    "    \n",
    "def is_one(number):\n",
    "    if abs(number-1) < 1e-10:\n",
    "        return True\n",
    "\n",
    "s = get_unit_vector()\n",
    "phi = pi/3\n",
    "R = get_rotation_matrix(s, phi)\n",
    "\n",
    "print(s)\n",
    "print(phi)\n",
    "rot_to_ax_phi(R)      "
   ]
  },
  {
   "cell_type": "code",
   "execution_count": null,
   "metadata": {
    "collapsed": true
   },
   "outputs": [],
   "source": []
  }
 ],
 "metadata": {
  "anaconda-cloud": {},
  "kernelspec": {
   "display_name": "Python [default]",
   "language": "python",
   "name": "python3"
  },
  "language_info": {
   "codemirror_mode": {
    "name": "ipython",
    "version": 3
   },
   "file_extension": ".py",
   "mimetype": "text/x-python",
   "name": "python",
   "nbconvert_exporter": "python",
   "pygments_lexer": "ipython3",
   "version": "3.5.2"
  }
 },
 "nbformat": 4,
 "nbformat_minor": 2
}
