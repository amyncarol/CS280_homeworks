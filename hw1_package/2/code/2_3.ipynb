{
 "cells": [
  {
   "cell_type": "code",
   "execution_count": 19,
   "metadata": {
    "collapsed": false
   },
   "outputs": [],
   "source": [
    "from random import random\n",
    "import numpy as np\n",
    "from math import pi, sin, cos\n",
    "def get_unit_vector():\n",
    "    s = np.array([2*random()-1, 2*random()-1, 2*random()-1])\n",
    "    s = s/np.linalg.norm(s)\n",
    "    return s\n",
    "\n",
    "def get_s_matrix(s):\n",
    "    return np.array([[0, -s[2], s[1]], [s[2], 0, -s[0]], [-s[1], s[0], 0]])\n",
    "\n",
    "def get_rotation_matrix(s, phi):\n",
    "    S = get_s_matrix(s)\n",
    "    R = np.eye(3) + sin(phi) * S + (1-cos(phi)) * S @ S\n",
    "    return R\n",
    "    \n",
    "def get_p_rotation(s, phi, p):\n",
    "    R = get_rotation_matrix(s, phi)\n",
    "    return np.dot(R, p)\n",
    "\n",
    "def plot_3d(s, p, phi, fig):\n",
    "    ax = fig.gca(projection='3d')\n",
    "    x = np.linspace(0, s[0], 100)\n",
    "    y = np.linspace(0, s[1], 100)\n",
    "    z = np.linspace(0, s[2], 100)\n",
    "    ax.plot(x, y, z)\n",
    "    \n",
    "    n = phi.shape[0]\n",
    "    px = np.zeros(n)\n",
    "    py = np.zeros(n)\n",
    "    pz = np.zeros(n)\n",
    "    for i, angle in enumerate(phi):\n",
    "        new_p = get_p_rotation(s, angle, p)\n",
    "        px[i] = new_p[0]\n",
    "        py[i] = new_p[1]\n",
    "        pz[i] = new_p[2]\n",
    "    ax.scatter(px, py, pz)  \n",
    "    return ax"
   ]
  },
  {
   "cell_type": "code",
   "execution_count": 18,
   "metadata": {
    "collapsed": false
   },
   "outputs": [],
   "source": [
    "import matplotlib\n",
    "matplotlib.use('Qt5Agg')\n",
    "import matplotlib.pyplot as plt\n",
    "from mpl_toolkits.mplot3d import Axes3D\n",
    "\n",
    "for i in range(0, 5):\n",
    "    s = get_unit_vector()\n",
    "    p = get_unit_vector()\n",
    "    phi = np.array([0, pi/12, pi/8, pi/6, pi/4, pi/2, pi, 3*pi/2])\n",
    "    fig = plt.figure()\n",
    "    ax = plot_3d(s, p, phi, fig)\n",
    "    ax.set_xlim(-1,1)\n",
    "    ax.set_ylim(-1,1)\n",
    "    ax.set_zlim(-1,1)\n",
    "    plt.savefig('{}.pdf'.format(i), dpi=100)\n",
    "    "
   ]
  },
  {
   "cell_type": "code",
   "execution_count": null,
   "metadata": {
    "collapsed": true
   },
   "outputs": [],
   "source": []
  }
 ],
 "metadata": {
  "anaconda-cloud": {},
  "kernelspec": {
   "display_name": "Python [default]",
   "language": "python",
   "name": "python3"
  },
  "language_info": {
   "codemirror_mode": {
    "name": "ipython",
    "version": 3
   },
   "file_extension": ".py",
   "mimetype": "text/x-python",
   "name": "python",
   "nbconvert_exporter": "python",
   "pygments_lexer": "ipython3",
   "version": "3.5.2"
  }
 },
 "nbformat": 4,
 "nbformat_minor": 2
}
